{
  "nbformat": 4,
  "nbformat_minor": 0,
  "metadata": {
    "colab": {
      "provenance": [],
      "machine_shape": "hm"
    },
    "kernelspec": {
      "name": "python3",
      "display_name": "Python 3"
    },
    "language_info": {
      "name": "python"
    }
  },
  "cells": [
    {
      "cell_type": "markdown",
      "source": [
        "# LIAR-New labeling first round"
      ],
      "metadata": {
        "id": "jTIyFKcNbXLb"
      }
    },
    {
      "cell_type": "code",
      "source": [
        "import pandas as pd\n",
        "\n",
        "df = pd.read_csv('liar-new_eval_gpt-4-0125_manuallabels.tsv', sep='\\t')\n",
        "df_originally_correct = df[df.prediction_matches_label == 1]\n",
        "df_originally_wrong = df[df.prediction_matches_label == 0]"
      ],
      "metadata": {
        "id": "sWAyZlDYbYte"
      },
      "execution_count": 21,
      "outputs": []
    },
    {
      "cell_type": "code",
      "source": [
        "df_originally_wrong.labeler_1.value_counts()"
      ],
      "metadata": {
        "colab": {
          "base_uri": "https://localhost:8080/",
          "height": 209
        },
        "id": "AiO14Ds5N57t",
        "outputId": "ba9b8ba7-3b9c-468f-a64e-8d2fd0e90dfb"
      },
      "execution_count": 22,
      "outputs": [
        {
          "output_type": "execute_result",
          "data": {
            "text/plain": [
              "labeler_1\n",
              "Predictive system is not wrong        64\n",
              "Predictive system is wrong            23\n",
              "Uncertain / open to interpretation    13\n",
              "Name: count, dtype: int64"
            ],
            "text/html": [
              "<table border=\"1\" class=\"dataframe\">\n",
              "  <thead>\n",
              "    <tr style=\"text-align: right;\">\n",
              "      <th></th>\n",
              "      <th>count</th>\n",
              "    </tr>\n",
              "    <tr>\n",
              "      <th>labeler_1</th>\n",
              "      <th></th>\n",
              "    </tr>\n",
              "  </thead>\n",
              "  <tbody>\n",
              "    <tr>\n",
              "      <th>Predictive system is not wrong</th>\n",
              "      <td>64</td>\n",
              "    </tr>\n",
              "    <tr>\n",
              "      <th>Predictive system is wrong</th>\n",
              "      <td>23</td>\n",
              "    </tr>\n",
              "    <tr>\n",
              "      <th>Uncertain / open to interpretation</th>\n",
              "      <td>13</td>\n",
              "    </tr>\n",
              "  </tbody>\n",
              "</table><br><label><b>dtype:</b> int64</label>"
            ]
          },
          "metadata": {},
          "execution_count": 22
        }
      ]
    },
    {
      "cell_type": "code",
      "source": [
        "df_originally_wrong.labeler_2.value_counts()"
      ],
      "metadata": {
        "colab": {
          "base_uri": "https://localhost:8080/",
          "height": 209
        },
        "id": "nkd5wOCRN_DP",
        "outputId": "b31ab90c-fcfc-47f3-8a3e-4e7241994141"
      },
      "execution_count": 23,
      "outputs": [
        {
          "output_type": "execute_result",
          "data": {
            "text/plain": [
              "labeler_2\n",
              "Predictive system is not wrong        43\n",
              "Predictive system is wrong            30\n",
              "Uncertain / open to interpretation    27\n",
              "Name: count, dtype: int64"
            ],
            "text/html": [
              "<table border=\"1\" class=\"dataframe\">\n",
              "  <thead>\n",
              "    <tr style=\"text-align: right;\">\n",
              "      <th></th>\n",
              "      <th>count</th>\n",
              "    </tr>\n",
              "    <tr>\n",
              "      <th>labeler_2</th>\n",
              "      <th></th>\n",
              "    </tr>\n",
              "  </thead>\n",
              "  <tbody>\n",
              "    <tr>\n",
              "      <th>Predictive system is not wrong</th>\n",
              "      <td>43</td>\n",
              "    </tr>\n",
              "    <tr>\n",
              "      <th>Predictive system is wrong</th>\n",
              "      <td>30</td>\n",
              "    </tr>\n",
              "    <tr>\n",
              "      <th>Uncertain / open to interpretation</th>\n",
              "      <td>27</td>\n",
              "    </tr>\n",
              "  </tbody>\n",
              "</table><br><label><b>dtype:</b> int64</label>"
            ]
          },
          "metadata": {},
          "execution_count": 23
        }
      ]
    },
    {
      "cell_type": "code",
      "source": [
        "len(df_originally_wrong[(df_originally_wrong.labeler_1 == \"Predictive system is not wrong\") & (df_originally_wrong.labeler_2 == \"Predictive system is not wrong\")])"
      ],
      "metadata": {
        "colab": {
          "base_uri": "https://localhost:8080/"
        },
        "id": "F8qWPWCf_MK5",
        "outputId": "13b087ab-7e4b-4990-efe5-8c77c9ce6a93"
      },
      "execution_count": 24,
      "outputs": [
        {
          "output_type": "execute_result",
          "data": {
            "text/plain": [
              "38"
            ]
          },
          "metadata": {},
          "execution_count": 24
        }
      ]
    },
    {
      "cell_type": "code",
      "source": [
        "len(df_originally_wrong[df_originally_wrong.labeler_1 == df_originally_wrong.labeler_2])"
      ],
      "metadata": {
        "colab": {
          "base_uri": "https://localhost:8080/"
        },
        "id": "8Kmn42aUGivE",
        "outputId": "4a52fd65-f0be-4b64-ed5d-8f8bb9ad0ff5"
      },
      "execution_count": 25,
      "outputs": [
        {
          "output_type": "execute_result",
          "data": {
            "text/plain": [
              "60"
            ]
          },
          "metadata": {},
          "execution_count": 25
        }
      ]
    },
    {
      "cell_type": "code",
      "source": [
        "from sklearn.metrics import cohen_kappa_score\n",
        "\n",
        "# Calculate Cohen's Kappa Score\n",
        "kappa_score = cohen_kappa_score(df['labeler_1'], df['labeler_2'])\n",
        "\n",
        "print(f\"Cohen’s Kappa Score: {kappa_score}\")\n"
      ],
      "metadata": {
        "colab": {
          "base_uri": "https://localhost:8080/"
        },
        "id": "jp-XTRPnQ_wq",
        "outputId": "746d8333-673c-441d-8281-8ab3c249abb4"
      },
      "execution_count": 26,
      "outputs": [
        {
          "output_type": "stream",
          "name": "stdout",
          "text": [
            "Cohen’s Kappa Score: 0.3590417148261007\n"
          ]
        }
      ]
    },
    {
      "cell_type": "code",
      "source": [],
      "metadata": {
        "id": "qZ_HeNvmTQKg"
      },
      "execution_count": null,
      "outputs": []
    },
    {
      "cell_type": "markdown",
      "source": [
        "# LIAR-New disagreement resolution"
      ],
      "metadata": {
        "id": "e5IXn0NsGzsN"
      }
    },
    {
      "cell_type": "code",
      "source": [
        "df_originally_wrong.resolution_label.value_counts()"
      ],
      "metadata": {
        "colab": {
          "base_uri": "https://localhost:8080/",
          "height": 241
        },
        "id": "bh23cKBnG2aJ",
        "outputId": "33807445-344b-450f-d777-bbce1ed42147"
      },
      "execution_count": 27,
      "outputs": [
        {
          "output_type": "execute_result",
          "data": {
            "text/plain": [
              "resolution_label\n",
              "resolution_not_conducted          60\n",
              "Predictive system is not wrong    17\n",
              "Predictive system is wrong        14\n",
              "Uncertain                          9\n",
              "Name: count, dtype: int64"
            ],
            "text/html": [
              "<table border=\"1\" class=\"dataframe\">\n",
              "  <thead>\n",
              "    <tr style=\"text-align: right;\">\n",
              "      <th></th>\n",
              "      <th>count</th>\n",
              "    </tr>\n",
              "    <tr>\n",
              "      <th>resolution_label</th>\n",
              "      <th></th>\n",
              "    </tr>\n",
              "  </thead>\n",
              "  <tbody>\n",
              "    <tr>\n",
              "      <th>resolution_not_conducted</th>\n",
              "      <td>60</td>\n",
              "    </tr>\n",
              "    <tr>\n",
              "      <th>Predictive system is not wrong</th>\n",
              "      <td>17</td>\n",
              "    </tr>\n",
              "    <tr>\n",
              "      <th>Predictive system is wrong</th>\n",
              "      <td>14</td>\n",
              "    </tr>\n",
              "    <tr>\n",
              "      <th>Uncertain</th>\n",
              "      <td>9</td>\n",
              "    </tr>\n",
              "  </tbody>\n",
              "</table><br><label><b>dtype:</b> int64</label>"
            ]
          },
          "metadata": {},
          "execution_count": 27
        }
      ]
    },
    {
      "cell_type": "code",
      "source": [
        "import numpy as np\n",
        "\n",
        "def combine_labels(row):\n",
        "    if row['resolution_label'] != 'resolution_not_conducted':\n",
        "      return row['resolution_label']\n",
        "    else: # agreed originally\n",
        "      return row['labeler_1']\n",
        "\n",
        "df_originally_wrong['final_label'] = df_originally_wrong.apply(lambda x: combine_labels(x), axis=1)\n",
        "\n",
        "def sync_labels(row):\n",
        "  if 'not wrong' in row['final_label'].lower():\n",
        "    return 'NW'\n",
        "  elif 'wrong' in row['final_label'].lower():\n",
        "    return 'W'\n",
        "  else:\n",
        "    return 'U'\n",
        "\n",
        "df_originally_wrong['final_label'] = df_originally_wrong.apply(lambda x: sync_labels(x), axis=1)"
      ],
      "metadata": {
        "colab": {
          "base_uri": "https://localhost:8080/"
        },
        "id": "zN54hLpPJi3n",
        "outputId": "30908f30-557b-4a9f-e62f-b2cb99ce726e"
      },
      "execution_count": 28,
      "outputs": [
        {
          "output_type": "stream",
          "name": "stderr",
          "text": [
            "<ipython-input-28-ccd1a6f548ac>:9: SettingWithCopyWarning: \n",
            "A value is trying to be set on a copy of a slice from a DataFrame.\n",
            "Try using .loc[row_indexer,col_indexer] = value instead\n",
            "\n",
            "See the caveats in the documentation: https://pandas.pydata.org/pandas-docs/stable/user_guide/indexing.html#returning-a-view-versus-a-copy\n",
            "  df_originally_wrong['final_label'] = df_originally_wrong.apply(lambda x: combine_labels(x), axis=1)\n",
            "<ipython-input-28-ccd1a6f548ac>:19: SettingWithCopyWarning: \n",
            "A value is trying to be set on a copy of a slice from a DataFrame.\n",
            "Try using .loc[row_indexer,col_indexer] = value instead\n",
            "\n",
            "See the caveats in the documentation: https://pandas.pydata.org/pandas-docs/stable/user_guide/indexing.html#returning-a-view-versus-a-copy\n",
            "  df_originally_wrong['final_label'] = df_originally_wrong.apply(lambda x: sync_labels(x), axis=1)\n"
          ]
        }
      ]
    },
    {
      "cell_type": "code",
      "source": [
        "df_originally_wrong.final_label.value_counts()"
      ],
      "metadata": {
        "colab": {
          "base_uri": "https://localhost:8080/",
          "height": 209
        },
        "id": "bghIFKSbKBRf",
        "outputId": "56428270-fef3-4548-bb9b-a8c5aca6df37"
      },
      "execution_count": 29,
      "outputs": [
        {
          "output_type": "execute_result",
          "data": {
            "text/plain": [
              "final_label\n",
              "NW    55\n",
              "W     30\n",
              "U     15\n",
              "Name: count, dtype: int64"
            ],
            "text/html": [
              "<table border=\"1\" class=\"dataframe\">\n",
              "  <thead>\n",
              "    <tr style=\"text-align: right;\">\n",
              "      <th></th>\n",
              "      <th>count</th>\n",
              "    </tr>\n",
              "    <tr>\n",
              "      <th>final_label</th>\n",
              "      <th></th>\n",
              "    </tr>\n",
              "  </thead>\n",
              "  <tbody>\n",
              "    <tr>\n",
              "      <th>NW</th>\n",
              "      <td>55</td>\n",
              "    </tr>\n",
              "    <tr>\n",
              "      <th>W</th>\n",
              "      <td>30</td>\n",
              "    </tr>\n",
              "    <tr>\n",
              "      <th>U</th>\n",
              "      <td>15</td>\n",
              "    </tr>\n",
              "  </tbody>\n",
              "</table><br><label><b>dtype:</b> int64</label>"
            ]
          },
          "metadata": {},
          "execution_count": 29
        }
      ]
    },
    {
      "cell_type": "markdown",
      "source": [
        "# LIAR-New examples where predicted label already matched dataset one"
      ],
      "metadata": {
        "id": "EoqNRjCrKPf8"
      }
    },
    {
      "cell_type": "code",
      "source": [
        "df_originally_correct.labeler_1.value_counts()"
      ],
      "metadata": {
        "colab": {
          "base_uri": "https://localhost:8080/",
          "height": 209
        },
        "id": "pzupqYp-KXG4",
        "outputId": "dd322fab-fd1e-415e-aff6-c4df976263f8"
      },
      "execution_count": 30,
      "outputs": [
        {
          "output_type": "execute_result",
          "data": {
            "text/plain": [
              "labeler_1\n",
              "Predictive system is not wrong        83\n",
              "Uncertain / open to interpretation    14\n",
              "Predictive system is wrong             3\n",
              "Name: count, dtype: int64"
            ],
            "text/html": [
              "<table border=\"1\" class=\"dataframe\">\n",
              "  <thead>\n",
              "    <tr style=\"text-align: right;\">\n",
              "      <th></th>\n",
              "      <th>count</th>\n",
              "    </tr>\n",
              "    <tr>\n",
              "      <th>labeler_1</th>\n",
              "      <th></th>\n",
              "    </tr>\n",
              "  </thead>\n",
              "  <tbody>\n",
              "    <tr>\n",
              "      <th>Predictive system is not wrong</th>\n",
              "      <td>83</td>\n",
              "    </tr>\n",
              "    <tr>\n",
              "      <th>Uncertain / open to interpretation</th>\n",
              "      <td>14</td>\n",
              "    </tr>\n",
              "    <tr>\n",
              "      <th>Predictive system is wrong</th>\n",
              "      <td>3</td>\n",
              "    </tr>\n",
              "  </tbody>\n",
              "</table><br><label><b>dtype:</b> int64</label>"
            ]
          },
          "metadata": {},
          "execution_count": 30
        }
      ]
    },
    {
      "cell_type": "code",
      "source": [
        "df_originally_correct.labeler_2.value_counts()"
      ],
      "metadata": {
        "colab": {
          "base_uri": "https://localhost:8080/",
          "height": 209
        },
        "id": "MapWJEe_KgTT",
        "outputId": "91d8b4d5-5c82-4f1f-dcee-096a5326da7f"
      },
      "execution_count": 31,
      "outputs": [
        {
          "output_type": "execute_result",
          "data": {
            "text/plain": [
              "labeler_2\n",
              "Predictive system is not wrong        87\n",
              "Uncertain / open to interpretation     9\n",
              "Predictive system is wrong             4\n",
              "Name: count, dtype: int64"
            ],
            "text/html": [
              "<table border=\"1\" class=\"dataframe\">\n",
              "  <thead>\n",
              "    <tr style=\"text-align: right;\">\n",
              "      <th></th>\n",
              "      <th>count</th>\n",
              "    </tr>\n",
              "    <tr>\n",
              "      <th>labeler_2</th>\n",
              "      <th></th>\n",
              "    </tr>\n",
              "  </thead>\n",
              "  <tbody>\n",
              "    <tr>\n",
              "      <th>Predictive system is not wrong</th>\n",
              "      <td>87</td>\n",
              "    </tr>\n",
              "    <tr>\n",
              "      <th>Uncertain / open to interpretation</th>\n",
              "      <td>9</td>\n",
              "    </tr>\n",
              "    <tr>\n",
              "      <th>Predictive system is wrong</th>\n",
              "      <td>4</td>\n",
              "    </tr>\n",
              "  </tbody>\n",
              "</table><br><label><b>dtype:</b> int64</label>"
            ]
          },
          "metadata": {},
          "execution_count": 31
        }
      ]
    },
    {
      "cell_type": "code",
      "source": [
        "# number of cases where they agree\n",
        "sum(df_originally_correct.labeler_1 == df_originally_correct.labeler_2)"
      ],
      "metadata": {
        "colab": {
          "base_uri": "https://localhost:8080/"
        },
        "id": "i_Sk-A6HKiqr",
        "outputId": "620f151e-f3e0-4763-d8b7-273b745d926a"
      },
      "execution_count": 32,
      "outputs": [
        {
          "output_type": "execute_result",
          "data": {
            "text/plain": [
              "79"
            ]
          },
          "metadata": {},
          "execution_count": 32
        }
      ]
    },
    {
      "cell_type": "code",
      "source": [
        "# the labels on cases where they agree\n",
        "df_originally_correct[df_originally_correct.labeler_1 == df_originally_correct.labeler_2].labeler_1.value_counts()"
      ],
      "metadata": {
        "colab": {
          "base_uri": "https://localhost:8080/",
          "height": 209
        },
        "id": "eVES3XXgLPZi",
        "outputId": "72995315-7408-4926-caaa-53c842fdc9f0"
      },
      "execution_count": 39,
      "outputs": [
        {
          "output_type": "execute_result",
          "data": {
            "text/plain": [
              "labeler_1\n",
              "Predictive system is not wrong        76\n",
              "Uncertain / open to interpretation     2\n",
              "Predictive system is wrong             1\n",
              "Name: count, dtype: int64"
            ],
            "text/html": [
              "<table border=\"1\" class=\"dataframe\">\n",
              "  <thead>\n",
              "    <tr style=\"text-align: right;\">\n",
              "      <th></th>\n",
              "      <th>count</th>\n",
              "    </tr>\n",
              "    <tr>\n",
              "      <th>labeler_1</th>\n",
              "      <th></th>\n",
              "    </tr>\n",
              "  </thead>\n",
              "  <tbody>\n",
              "    <tr>\n",
              "      <th>Predictive system is not wrong</th>\n",
              "      <td>76</td>\n",
              "    </tr>\n",
              "    <tr>\n",
              "      <th>Uncertain / open to interpretation</th>\n",
              "      <td>2</td>\n",
              "    </tr>\n",
              "    <tr>\n",
              "      <th>Predictive system is wrong</th>\n",
              "      <td>1</td>\n",
              "    </tr>\n",
              "  </tbody>\n",
              "</table><br><label><b>dtype:</b> int64</label>"
            ]
          },
          "metadata": {},
          "execution_count": 39
        }
      ]
    },
    {
      "cell_type": "code",
      "source": [
        "# number of cases where one labeler said it was wrong and one said not wrong\n",
        "sum(((df_originally_correct.labeler_1 == 'Predictive system is not wrong') & (df_originally_correct.labeler_2 == 'Predictive system is wrong')) | ((df_originally_correct.labeler_2 == 'Predictive system is not wrong') & (df_originally_correct.labeler_1 == 'Predictive system is wrong')))"
      ],
      "metadata": {
        "colab": {
          "base_uri": "https://localhost:8080/"
        },
        "id": "qiKX5O8hKoLa",
        "outputId": "4abb0e81-5cac-4ad9-91fd-cf8ac2f48c28"
      },
      "execution_count": 36,
      "outputs": [
        {
          "output_type": "execute_result",
          "data": {
            "text/plain": [
              "2"
            ]
          },
          "metadata": {},
          "execution_count": 36
        }
      ]
    },
    {
      "cell_type": "code",
      "source": [
        "# what labeler_2 said, in cases where labeler_1 said uncertain and labeler_2 said something else\n",
        "df_originally_correct[(df_originally_correct.labeler_1 != df_originally_correct.labeler_2) & (df_originally_correct.labeler_1 == 'Uncertain / open to interpretation')].labeler_2.value_counts()"
      ],
      "metadata": {
        "colab": {
          "base_uri": "https://localhost:8080/",
          "height": 178
        },
        "id": "wipK-heYLMqt",
        "outputId": "548f9f08-986f-40cc-af48-02df15ea6c32"
      },
      "execution_count": 45,
      "outputs": [
        {
          "output_type": "execute_result",
          "data": {
            "text/plain": [
              "labeler_2\n",
              "Predictive system is not wrong    10\n",
              "Predictive system is wrong         2\n",
              "Name: count, dtype: int64"
            ],
            "text/html": [
              "<table border=\"1\" class=\"dataframe\">\n",
              "  <thead>\n",
              "    <tr style=\"text-align: right;\">\n",
              "      <th></th>\n",
              "      <th>count</th>\n",
              "    </tr>\n",
              "    <tr>\n",
              "      <th>labeler_2</th>\n",
              "      <th></th>\n",
              "    </tr>\n",
              "  </thead>\n",
              "  <tbody>\n",
              "    <tr>\n",
              "      <th>Predictive system is not wrong</th>\n",
              "      <td>10</td>\n",
              "    </tr>\n",
              "    <tr>\n",
              "      <th>Predictive system is wrong</th>\n",
              "      <td>2</td>\n",
              "    </tr>\n",
              "  </tbody>\n",
              "</table><br><label><b>dtype:</b> int64</label>"
            ]
          },
          "metadata": {},
          "execution_count": 45
        }
      ]
    },
    {
      "cell_type": "code",
      "source": [
        "# converse of above, what labeler_1 said, in cases where labeler_2 said uncertain and labeler_1 said something else\n",
        "df_originally_correct[(df_originally_correct.labeler_1 != df_originally_correct.labeler_2) & (df_originally_correct.labeler_2 == 'Uncertain / open to interpretation')].labeler_1.value_counts()"
      ],
      "metadata": {
        "colab": {
          "base_uri": "https://localhost:8080/",
          "height": 178
        },
        "id": "nnDkVN61ME5c",
        "outputId": "9f6384d3-87b5-422f-c85b-07a583eb0860"
      },
      "execution_count": 47,
      "outputs": [
        {
          "output_type": "execute_result",
          "data": {
            "text/plain": [
              "labeler_1\n",
              "Predictive system is not wrong    6\n",
              "Predictive system is wrong        1\n",
              "Name: count, dtype: int64"
            ],
            "text/html": [
              "<table border=\"1\" class=\"dataframe\">\n",
              "  <thead>\n",
              "    <tr style=\"text-align: right;\">\n",
              "      <th></th>\n",
              "      <th>count</th>\n",
              "    </tr>\n",
              "    <tr>\n",
              "      <th>labeler_1</th>\n",
              "      <th></th>\n",
              "    </tr>\n",
              "  </thead>\n",
              "  <tbody>\n",
              "    <tr>\n",
              "      <th>Predictive system is not wrong</th>\n",
              "      <td>6</td>\n",
              "    </tr>\n",
              "    <tr>\n",
              "      <th>Predictive system is wrong</th>\n",
              "      <td>1</td>\n",
              "    </tr>\n",
              "  </tbody>\n",
              "</table><br><label><b>dtype:</b> int64</label>"
            ]
          },
          "metadata": {},
          "execution_count": 47
        }
      ]
    },
    {
      "cell_type": "code",
      "source": [],
      "metadata": {
        "id": "UcdiJvom0cQq"
      },
      "execution_count": null,
      "outputs": []
    },
    {
      "cell_type": "markdown",
      "source": [
        "# FEVER"
      ],
      "metadata": {
        "id": "zGevlg2O0hBO"
      }
    },
    {
      "cell_type": "markdown",
      "source": [
        "# New manual eval of prediction quality\n"
      ],
      "metadata": {
        "id": "icdSiOIwc3o2"
      }
    },
    {
      "cell_type": "code",
      "source": [
        "import pandas as pd\n",
        "\n",
        "df = pd.read_csv('fever_eval_gpt-3.5-0125_manuallabels.tsv', sep='\\t')"
      ],
      "metadata": {
        "id": "eqRqKgn_etl5"
      },
      "execution_count": 54,
      "outputs": []
    },
    {
      "cell_type": "code",
      "source": [
        "df"
      ],
      "metadata": {
        "colab": {
          "base_uri": "https://localhost:8080/",
          "height": 788
        },
        "id": "yQTdUahafB73",
        "outputId": "ff43392e-6052-4936-d0c8-68b38eedad03"
      },
      "execution_count": 55,
      "outputs": [
        {
          "output_type": "execute_result",
          "data": {
            "text/plain": [
              "    Unnamed: 0                                              claim     label  \\\n",
              "0           10  The End of Time is the Tenth Doctor's final ad...   REFUTES   \n",
              "1           11  Gal Gadot was ranked behind Bar Refaeli for Is...  SUPPORTS   \n",
              "2           12                                Vietnam is a place.  SUPPORTS   \n",
              "3           13       Cleopatre premiered in an author's lifetime.  SUPPORTS   \n",
              "4           14                Benjamin Franklin was born in 1790.   REFUTES   \n",
              "..         ...                                                ...       ...   \n",
              "94         105      Jefferson Davis grew up in the United States.  SUPPORTS   \n",
              "95         106  Goosebumps (film) is based on a story by Scott...  SUPPORTS   \n",
              "96         107  Robinson Crusoe on Mars was produced by Paramo...  SUPPORTS   \n",
              "97         108            Diana, Princess of Wales never married.   REFUTES   \n",
              "98         109  Robert Singer (producer) is incapable of writing.   REFUTES   \n",
              "\n",
              "                   evidence_wiki_url  prediction_matches_label  \\\n",
              "0                       Tenth_Doctor                     False   \n",
              "1                          Gal_Gadot                     False   \n",
              "2                            Vietnam                     False   \n",
              "3                        Cléopâtre                     False   \n",
              "4   United_States_Postmaster_General                     False   \n",
              "..                               ...                       ...   \n",
              "94                   Jefferson_Davis                     False   \n",
              "95         Goosebumps_-LRB-film-RRB-                     False   \n",
              "96                Paramount_Pictures                     False   \n",
              "97          Diana,_Princess_of_Wales                     False   \n",
              "98  Robert_Singer_-LRB-producer-RRB-                     False   \n",
              "\n",
              "                                             messages  \\\n",
              "0    Your task is to analyze the factuality of the...   \n",
              "1    Your task is to analyze the factuality of the...   \n",
              "2    Your task is to analyze the factuality of the...   \n",
              "3    Your task is to analyze the factuality of the...   \n",
              "4    Your task is to analyze the factuality of the...   \n",
              "..                                                ...   \n",
              "94   Your task is to analyze the factuality of the...   \n",
              "95   Your task is to analyze the factuality of the...   \n",
              "96   Your task is to analyze the factuality of the...   \n",
              "97   Your task is to analyze the factuality of the...   \n",
              "98   Your task is to analyze the factuality of the...   \n",
              "\n",
              "                             labeler_1                           labeler_2  \n",
              "0       Predictive system is not wrong      Predictive system is not wrong  \n",
              "1       Predictive system is not wrong      Predictive system is not wrong  \n",
              "2       Predictive system is not wrong      Predictive system is not wrong  \n",
              "3   Uncertain / open to interpretation          Predictive system is wrong  \n",
              "4           Predictive system is wrong          Predictive system is wrong  \n",
              "..                                 ...                                 ...  \n",
              "94      Predictive system is not wrong          Predictive system is wrong  \n",
              "95          Predictive system is wrong      Predictive system is not wrong  \n",
              "96  Uncertain / open to interpretation  Uncertain / open to interpretation  \n",
              "97          Predictive system is wrong          Predictive system is wrong  \n",
              "98      Predictive system is not wrong          Predictive system is wrong  \n",
              "\n",
              "[99 rows x 8 columns]"
            ],
            "text/html": [
              "\n",
              "  <div id=\"df-834791d6-9a7c-4b0c-8c46-7d9057dff763\" class=\"colab-df-container\">\n",
              "    <div>\n",
              "<style scoped>\n",
              "    .dataframe tbody tr th:only-of-type {\n",
              "        vertical-align: middle;\n",
              "    }\n",
              "\n",
              "    .dataframe tbody tr th {\n",
              "        vertical-align: top;\n",
              "    }\n",
              "\n",
              "    .dataframe thead th {\n",
              "        text-align: right;\n",
              "    }\n",
              "</style>\n",
              "<table border=\"1\" class=\"dataframe\">\n",
              "  <thead>\n",
              "    <tr style=\"text-align: right;\">\n",
              "      <th></th>\n",
              "      <th>Unnamed: 0</th>\n",
              "      <th>claim</th>\n",
              "      <th>label</th>\n",
              "      <th>evidence_wiki_url</th>\n",
              "      <th>prediction_matches_label</th>\n",
              "      <th>messages</th>\n",
              "      <th>labeler_1</th>\n",
              "      <th>labeler_2</th>\n",
              "    </tr>\n",
              "  </thead>\n",
              "  <tbody>\n",
              "    <tr>\n",
              "      <th>0</th>\n",
              "      <td>10</td>\n",
              "      <td>The End of Time is the Tenth Doctor's final ad...</td>\n",
              "      <td>REFUTES</td>\n",
              "      <td>Tenth_Doctor</td>\n",
              "      <td>False</td>\n",
              "      <td>Your task is to analyze the factuality of the...</td>\n",
              "      <td>Predictive system is not wrong</td>\n",
              "      <td>Predictive system is not wrong</td>\n",
              "    </tr>\n",
              "    <tr>\n",
              "      <th>1</th>\n",
              "      <td>11</td>\n",
              "      <td>Gal Gadot was ranked behind Bar Refaeli for Is...</td>\n",
              "      <td>SUPPORTS</td>\n",
              "      <td>Gal_Gadot</td>\n",
              "      <td>False</td>\n",
              "      <td>Your task is to analyze the factuality of the...</td>\n",
              "      <td>Predictive system is not wrong</td>\n",
              "      <td>Predictive system is not wrong</td>\n",
              "    </tr>\n",
              "    <tr>\n",
              "      <th>2</th>\n",
              "      <td>12</td>\n",
              "      <td>Vietnam is a place.</td>\n",
              "      <td>SUPPORTS</td>\n",
              "      <td>Vietnam</td>\n",
              "      <td>False</td>\n",
              "      <td>Your task is to analyze the factuality of the...</td>\n",
              "      <td>Predictive system is not wrong</td>\n",
              "      <td>Predictive system is not wrong</td>\n",
              "    </tr>\n",
              "    <tr>\n",
              "      <th>3</th>\n",
              "      <td>13</td>\n",
              "      <td>Cleopatre premiered in an author's lifetime.</td>\n",
              "      <td>SUPPORTS</td>\n",
              "      <td>Cléopâtre</td>\n",
              "      <td>False</td>\n",
              "      <td>Your task is to analyze the factuality of the...</td>\n",
              "      <td>Uncertain / open to interpretation</td>\n",
              "      <td>Predictive system is wrong</td>\n",
              "    </tr>\n",
              "    <tr>\n",
              "      <th>4</th>\n",
              "      <td>14</td>\n",
              "      <td>Benjamin Franklin was born in 1790.</td>\n",
              "      <td>REFUTES</td>\n",
              "      <td>United_States_Postmaster_General</td>\n",
              "      <td>False</td>\n",
              "      <td>Your task is to analyze the factuality of the...</td>\n",
              "      <td>Predictive system is wrong</td>\n",
              "      <td>Predictive system is wrong</td>\n",
              "    </tr>\n",
              "    <tr>\n",
              "      <th>...</th>\n",
              "      <td>...</td>\n",
              "      <td>...</td>\n",
              "      <td>...</td>\n",
              "      <td>...</td>\n",
              "      <td>...</td>\n",
              "      <td>...</td>\n",
              "      <td>...</td>\n",
              "      <td>...</td>\n",
              "    </tr>\n",
              "    <tr>\n",
              "      <th>94</th>\n",
              "      <td>105</td>\n",
              "      <td>Jefferson Davis grew up in the United States.</td>\n",
              "      <td>SUPPORTS</td>\n",
              "      <td>Jefferson_Davis</td>\n",
              "      <td>False</td>\n",
              "      <td>Your task is to analyze the factuality of the...</td>\n",
              "      <td>Predictive system is not wrong</td>\n",
              "      <td>Predictive system is wrong</td>\n",
              "    </tr>\n",
              "    <tr>\n",
              "      <th>95</th>\n",
              "      <td>106</td>\n",
              "      <td>Goosebumps (film) is based on a story by Scott...</td>\n",
              "      <td>SUPPORTS</td>\n",
              "      <td>Goosebumps_-LRB-film-RRB-</td>\n",
              "      <td>False</td>\n",
              "      <td>Your task is to analyze the factuality of the...</td>\n",
              "      <td>Predictive system is wrong</td>\n",
              "      <td>Predictive system is not wrong</td>\n",
              "    </tr>\n",
              "    <tr>\n",
              "      <th>96</th>\n",
              "      <td>107</td>\n",
              "      <td>Robinson Crusoe on Mars was produced by Paramo...</td>\n",
              "      <td>SUPPORTS</td>\n",
              "      <td>Paramount_Pictures</td>\n",
              "      <td>False</td>\n",
              "      <td>Your task is to analyze the factuality of the...</td>\n",
              "      <td>Uncertain / open to interpretation</td>\n",
              "      <td>Uncertain / open to interpretation</td>\n",
              "    </tr>\n",
              "    <tr>\n",
              "      <th>97</th>\n",
              "      <td>108</td>\n",
              "      <td>Diana, Princess of Wales never married.</td>\n",
              "      <td>REFUTES</td>\n",
              "      <td>Diana,_Princess_of_Wales</td>\n",
              "      <td>False</td>\n",
              "      <td>Your task is to analyze the factuality of the...</td>\n",
              "      <td>Predictive system is wrong</td>\n",
              "      <td>Predictive system is wrong</td>\n",
              "    </tr>\n",
              "    <tr>\n",
              "      <th>98</th>\n",
              "      <td>109</td>\n",
              "      <td>Robert Singer (producer) is incapable of writing.</td>\n",
              "      <td>REFUTES</td>\n",
              "      <td>Robert_Singer_-LRB-producer-RRB-</td>\n",
              "      <td>False</td>\n",
              "      <td>Your task is to analyze the factuality of the...</td>\n",
              "      <td>Predictive system is not wrong</td>\n",
              "      <td>Predictive system is wrong</td>\n",
              "    </tr>\n",
              "  </tbody>\n",
              "</table>\n",
              "<p>99 rows × 8 columns</p>\n",
              "</div>\n",
              "    <div class=\"colab-df-buttons\">\n",
              "\n",
              "  <div class=\"colab-df-container\">\n",
              "    <button class=\"colab-df-convert\" onclick=\"convertToInteractive('df-834791d6-9a7c-4b0c-8c46-7d9057dff763')\"\n",
              "            title=\"Convert this dataframe to an interactive table.\"\n",
              "            style=\"display:none;\">\n",
              "\n",
              "  <svg xmlns=\"http://www.w3.org/2000/svg\" height=\"24px\" viewBox=\"0 -960 960 960\">\n",
              "    <path d=\"M120-120v-720h720v720H120Zm60-500h600v-160H180v160Zm220 220h160v-160H400v160Zm0 220h160v-160H400v160ZM180-400h160v-160H180v160Zm440 0h160v-160H620v160ZM180-180h160v-160H180v160Zm440 0h160v-160H620v160Z\"/>\n",
              "  </svg>\n",
              "    </button>\n",
              "\n",
              "  <style>\n",
              "    .colab-df-container {\n",
              "      display:flex;\n",
              "      gap: 12px;\n",
              "    }\n",
              "\n",
              "    .colab-df-convert {\n",
              "      background-color: #E8F0FE;\n",
              "      border: none;\n",
              "      border-radius: 50%;\n",
              "      cursor: pointer;\n",
              "      display: none;\n",
              "      fill: #1967D2;\n",
              "      height: 32px;\n",
              "      padding: 0 0 0 0;\n",
              "      width: 32px;\n",
              "    }\n",
              "\n",
              "    .colab-df-convert:hover {\n",
              "      background-color: #E2EBFA;\n",
              "      box-shadow: 0px 1px 2px rgba(60, 64, 67, 0.3), 0px 1px 3px 1px rgba(60, 64, 67, 0.15);\n",
              "      fill: #174EA6;\n",
              "    }\n",
              "\n",
              "    .colab-df-buttons div {\n",
              "      margin-bottom: 4px;\n",
              "    }\n",
              "\n",
              "    [theme=dark] .colab-df-convert {\n",
              "      background-color: #3B4455;\n",
              "      fill: #D2E3FC;\n",
              "    }\n",
              "\n",
              "    [theme=dark] .colab-df-convert:hover {\n",
              "      background-color: #434B5C;\n",
              "      box-shadow: 0px 1px 3px 1px rgba(0, 0, 0, 0.15);\n",
              "      filter: drop-shadow(0px 1px 2px rgba(0, 0, 0, 0.3));\n",
              "      fill: #FFFFFF;\n",
              "    }\n",
              "  </style>\n",
              "\n",
              "    <script>\n",
              "      const buttonEl =\n",
              "        document.querySelector('#df-834791d6-9a7c-4b0c-8c46-7d9057dff763 button.colab-df-convert');\n",
              "      buttonEl.style.display =\n",
              "        google.colab.kernel.accessAllowed ? 'block' : 'none';\n",
              "\n",
              "      async function convertToInteractive(key) {\n",
              "        const element = document.querySelector('#df-834791d6-9a7c-4b0c-8c46-7d9057dff763');\n",
              "        const dataTable =\n",
              "          await google.colab.kernel.invokeFunction('convertToInteractive',\n",
              "                                                    [key], {});\n",
              "        if (!dataTable) return;\n",
              "\n",
              "        const docLinkHtml = 'Like what you see? Visit the ' +\n",
              "          '<a target=\"_blank\" href=https://colab.research.google.com/notebooks/data_table.ipynb>data table notebook</a>'\n",
              "          + ' to learn more about interactive tables.';\n",
              "        element.innerHTML = '';\n",
              "        dataTable['output_type'] = 'display_data';\n",
              "        await google.colab.output.renderOutput(dataTable, element);\n",
              "        const docLink = document.createElement('div');\n",
              "        docLink.innerHTML = docLinkHtml;\n",
              "        element.appendChild(docLink);\n",
              "      }\n",
              "    </script>\n",
              "  </div>\n",
              "\n",
              "\n",
              "<div id=\"df-69aeb7c6-66a8-46e3-9567-11622a8cb3e9\">\n",
              "  <button class=\"colab-df-quickchart\" onclick=\"quickchart('df-69aeb7c6-66a8-46e3-9567-11622a8cb3e9')\"\n",
              "            title=\"Suggest charts\"\n",
              "            style=\"display:none;\">\n",
              "\n",
              "<svg xmlns=\"http://www.w3.org/2000/svg\" height=\"24px\"viewBox=\"0 0 24 24\"\n",
              "     width=\"24px\">\n",
              "    <g>\n",
              "        <path d=\"M19 3H5c-1.1 0-2 .9-2 2v14c0 1.1.9 2 2 2h14c1.1 0 2-.9 2-2V5c0-1.1-.9-2-2-2zM9 17H7v-7h2v7zm4 0h-2V7h2v10zm4 0h-2v-4h2v4z\"/>\n",
              "    </g>\n",
              "</svg>\n",
              "  </button>\n",
              "\n",
              "<style>\n",
              "  .colab-df-quickchart {\n",
              "      --bg-color: #E8F0FE;\n",
              "      --fill-color: #1967D2;\n",
              "      --hover-bg-color: #E2EBFA;\n",
              "      --hover-fill-color: #174EA6;\n",
              "      --disabled-fill-color: #AAA;\n",
              "      --disabled-bg-color: #DDD;\n",
              "  }\n",
              "\n",
              "  [theme=dark] .colab-df-quickchart {\n",
              "      --bg-color: #3B4455;\n",
              "      --fill-color: #D2E3FC;\n",
              "      --hover-bg-color: #434B5C;\n",
              "      --hover-fill-color: #FFFFFF;\n",
              "      --disabled-bg-color: #3B4455;\n",
              "      --disabled-fill-color: #666;\n",
              "  }\n",
              "\n",
              "  .colab-df-quickchart {\n",
              "    background-color: var(--bg-color);\n",
              "    border: none;\n",
              "    border-radius: 50%;\n",
              "    cursor: pointer;\n",
              "    display: none;\n",
              "    fill: var(--fill-color);\n",
              "    height: 32px;\n",
              "    padding: 0;\n",
              "    width: 32px;\n",
              "  }\n",
              "\n",
              "  .colab-df-quickchart:hover {\n",
              "    background-color: var(--hover-bg-color);\n",
              "    box-shadow: 0 1px 2px rgba(60, 64, 67, 0.3), 0 1px 3px 1px rgba(60, 64, 67, 0.15);\n",
              "    fill: var(--button-hover-fill-color);\n",
              "  }\n",
              "\n",
              "  .colab-df-quickchart-complete:disabled,\n",
              "  .colab-df-quickchart-complete:disabled:hover {\n",
              "    background-color: var(--disabled-bg-color);\n",
              "    fill: var(--disabled-fill-color);\n",
              "    box-shadow: none;\n",
              "  }\n",
              "\n",
              "  .colab-df-spinner {\n",
              "    border: 2px solid var(--fill-color);\n",
              "    border-color: transparent;\n",
              "    border-bottom-color: var(--fill-color);\n",
              "    animation:\n",
              "      spin 1s steps(1) infinite;\n",
              "  }\n",
              "\n",
              "  @keyframes spin {\n",
              "    0% {\n",
              "      border-color: transparent;\n",
              "      border-bottom-color: var(--fill-color);\n",
              "      border-left-color: var(--fill-color);\n",
              "    }\n",
              "    20% {\n",
              "      border-color: transparent;\n",
              "      border-left-color: var(--fill-color);\n",
              "      border-top-color: var(--fill-color);\n",
              "    }\n",
              "    30% {\n",
              "      border-color: transparent;\n",
              "      border-left-color: var(--fill-color);\n",
              "      border-top-color: var(--fill-color);\n",
              "      border-right-color: var(--fill-color);\n",
              "    }\n",
              "    40% {\n",
              "      border-color: transparent;\n",
              "      border-right-color: var(--fill-color);\n",
              "      border-top-color: var(--fill-color);\n",
              "    }\n",
              "    60% {\n",
              "      border-color: transparent;\n",
              "      border-right-color: var(--fill-color);\n",
              "    }\n",
              "    80% {\n",
              "      border-color: transparent;\n",
              "      border-right-color: var(--fill-color);\n",
              "      border-bottom-color: var(--fill-color);\n",
              "    }\n",
              "    90% {\n",
              "      border-color: transparent;\n",
              "      border-bottom-color: var(--fill-color);\n",
              "    }\n",
              "  }\n",
              "</style>\n",
              "\n",
              "  <script>\n",
              "    async function quickchart(key) {\n",
              "      const quickchartButtonEl =\n",
              "        document.querySelector('#' + key + ' button');\n",
              "      quickchartButtonEl.disabled = true;  // To prevent multiple clicks.\n",
              "      quickchartButtonEl.classList.add('colab-df-spinner');\n",
              "      try {\n",
              "        const charts = await google.colab.kernel.invokeFunction(\n",
              "            'suggestCharts', [key], {});\n",
              "      } catch (error) {\n",
              "        console.error('Error during call to suggestCharts:', error);\n",
              "      }\n",
              "      quickchartButtonEl.classList.remove('colab-df-spinner');\n",
              "      quickchartButtonEl.classList.add('colab-df-quickchart-complete');\n",
              "    }\n",
              "    (() => {\n",
              "      let quickchartButtonEl =\n",
              "        document.querySelector('#df-69aeb7c6-66a8-46e3-9567-11622a8cb3e9 button');\n",
              "      quickchartButtonEl.style.display =\n",
              "        google.colab.kernel.accessAllowed ? 'block' : 'none';\n",
              "    })();\n",
              "  </script>\n",
              "</div>\n",
              "\n",
              "  <div id=\"id_642d940c-34a7-4c69-954d-f5c4937f5bb2\">\n",
              "    <style>\n",
              "      .colab-df-generate {\n",
              "        background-color: #E8F0FE;\n",
              "        border: none;\n",
              "        border-radius: 50%;\n",
              "        cursor: pointer;\n",
              "        display: none;\n",
              "        fill: #1967D2;\n",
              "        height: 32px;\n",
              "        padding: 0 0 0 0;\n",
              "        width: 32px;\n",
              "      }\n",
              "\n",
              "      .colab-df-generate:hover {\n",
              "        background-color: #E2EBFA;\n",
              "        box-shadow: 0px 1px 2px rgba(60, 64, 67, 0.3), 0px 1px 3px 1px rgba(60, 64, 67, 0.15);\n",
              "        fill: #174EA6;\n",
              "      }\n",
              "\n",
              "      [theme=dark] .colab-df-generate {\n",
              "        background-color: #3B4455;\n",
              "        fill: #D2E3FC;\n",
              "      }\n",
              "\n",
              "      [theme=dark] .colab-df-generate:hover {\n",
              "        background-color: #434B5C;\n",
              "        box-shadow: 0px 1px 3px 1px rgba(0, 0, 0, 0.15);\n",
              "        filter: drop-shadow(0px 1px 2px rgba(0, 0, 0, 0.3));\n",
              "        fill: #FFFFFF;\n",
              "      }\n",
              "    </style>\n",
              "    <button class=\"colab-df-generate\" onclick=\"generateWithVariable('df')\"\n",
              "            title=\"Generate code using this dataframe.\"\n",
              "            style=\"display:none;\">\n",
              "\n",
              "  <svg xmlns=\"http://www.w3.org/2000/svg\" height=\"24px\"viewBox=\"0 0 24 24\"\n",
              "       width=\"24px\">\n",
              "    <path d=\"M7,19H8.4L18.45,9,17,7.55,7,17.6ZM5,21V16.75L18.45,3.32a2,2,0,0,1,2.83,0l1.4,1.43a1.91,1.91,0,0,1,.58,1.4,1.91,1.91,0,0,1-.58,1.4L9.25,21ZM18.45,9,17,7.55Zm-12,3A5.31,5.31,0,0,0,4.9,8.1,5.31,5.31,0,0,0,1,6.5,5.31,5.31,0,0,0,4.9,4.9,5.31,5.31,0,0,0,6.5,1,5.31,5.31,0,0,0,8.1,4.9,5.31,5.31,0,0,0,12,6.5,5.46,5.46,0,0,0,6.5,12Z\"/>\n",
              "  </svg>\n",
              "    </button>\n",
              "    <script>\n",
              "      (() => {\n",
              "      const buttonEl =\n",
              "        document.querySelector('#id_642d940c-34a7-4c69-954d-f5c4937f5bb2 button.colab-df-generate');\n",
              "      buttonEl.style.display =\n",
              "        google.colab.kernel.accessAllowed ? 'block' : 'none';\n",
              "\n",
              "      buttonEl.onclick = () => {\n",
              "        google.colab.notebook.generateWithVariable('df');\n",
              "      }\n",
              "      })();\n",
              "    </script>\n",
              "  </div>\n",
              "\n",
              "    </div>\n",
              "  </div>\n"
            ],
            "application/vnd.google.colaboratory.intrinsic+json": {
              "type": "dataframe",
              "variable_name": "df",
              "summary": "{\n  \"name\": \"df\",\n  \"rows\": 99,\n  \"fields\": [\n    {\n      \"column\": \"Unnamed: 0\",\n      \"properties\": {\n        \"dtype\": \"number\",\n        \"std\": 28,\n        \"min\": 10,\n        \"max\": 109,\n        \"num_unique_values\": 99,\n        \"samples\": [\n          72,\n          50,\n          106\n        ],\n        \"semantic_type\": \"\",\n        \"description\": \"\"\n      }\n    },\n    {\n      \"column\": \"claim\",\n      \"properties\": {\n        \"dtype\": \"string\",\n        \"num_unique_values\": 99,\n        \"samples\": [\n          \"The Tracey Fragments had a premiere in September.\",\n          \"Yugoslavia failed to be a country.\",\n          \"Goosebumps (film) is based on a story by Scott Alexander and Larry Karaszewski.\"\n        ],\n        \"semantic_type\": \"\",\n        \"description\": \"\"\n      }\n    },\n    {\n      \"column\": \"label\",\n      \"properties\": {\n        \"dtype\": \"category\",\n        \"num_unique_values\": 2,\n        \"samples\": [\n          \"SUPPORTS\",\n          \"REFUTES\"\n        ],\n        \"semantic_type\": \"\",\n        \"description\": \"\"\n      }\n    },\n    {\n      \"column\": \"evidence_wiki_url\",\n      \"properties\": {\n        \"dtype\": \"string\",\n        \"num_unique_values\": 96,\n        \"samples\": [\n          \"21st_century\",\n          \"University_of_Illinois_at_Chicago\"\n        ],\n        \"semantic_type\": \"\",\n        \"description\": \"\"\n      }\n    },\n    {\n      \"column\": \"prediction_matches_label\",\n      \"properties\": {\n        \"dtype\": \"boolean\",\n        \"num_unique_values\": 1,\n        \"samples\": [\n          false\n        ],\n        \"semantic_type\": \"\",\n        \"description\": \"\"\n      }\n    },\n    {\n      \"column\": \"messages\",\n      \"properties\": {\n        \"dtype\": \"string\",\n        \"num_unique_values\": 99,\n        \"samples\": [\n          \" Your task is to analyze the factuality of the given statement.   Statement: The Tracey Fragments had a premiere in September.  You have access to a search engine tool. To invoke search, begin your query with the phrase \\\"SEARCH: \\\". You may invoke the search tool as many times as needed.   After providing all your analysis steps, summarize your analysis and state \\\"True statement; Factuality: 1\\\" if you think the statement is factual, or \\\"False statement; Factuality: 0\\\" otherwise.   SEARCH: The Tracey Fragments premiere date Search result: The world premiere of the Canadian film The Tracey Fragments took place at the 57th Berlin International Film Festival on 8 February 2007.  The film, which stars Elliot Page, is based on the novel of the same name by Maureen Medved and directed by Bruce McDonald. Based on the search results, the statement that The Tracey Fragments had a premiere in September is false. The film had its world premiere at the 57th Berlin International Film Festival on February 8, 2007. Therefore, the statement is incorrect.  False statement; Factuality: 0\"\n        ],\n        \"semantic_type\": \"\",\n        \"description\": \"\"\n      }\n    },\n    {\n      \"column\": \"labeler_1\",\n      \"properties\": {\n        \"dtype\": \"category\",\n        \"num_unique_values\": 3,\n        \"samples\": [\n          \"Predictive system is not wrong\"\n        ],\n        \"semantic_type\": \"\",\n        \"description\": \"\"\n      }\n    },\n    {\n      \"column\": \"labeler_2\",\n      \"properties\": {\n        \"dtype\": \"category\",\n        \"num_unique_values\": 3,\n        \"samples\": [\n          \"Predictive system is not wrong\"\n        ],\n        \"semantic_type\": \"\",\n        \"description\": \"\"\n      }\n    }\n  ]\n}"
            }
          },
          "metadata": {},
          "execution_count": 55
        }
      ]
    },
    {
      "cell_type": "code",
      "source": [
        "# marked NOT wrong by both\n",
        "len(df[(df.labeler_1 == \"Predictive system is not wrong\") & (df.labeler_2 == \"Predictive system is not wrong\")])"
      ],
      "metadata": {
        "colab": {
          "base_uri": "https://localhost:8080/"
        },
        "id": "9gDqiROO-cwU",
        "outputId": "d1e560b7-bd85-451a-8c8d-64728e614e09"
      },
      "execution_count": 56,
      "outputs": [
        {
          "output_type": "execute_result",
          "data": {
            "text/plain": [
              "36"
            ]
          },
          "metadata": {},
          "execution_count": 56
        }
      ]
    },
    {
      "cell_type": "code",
      "source": [
        "# marked wrong by both\n",
        "len(df[(df.labeler_1 == \"Predictive system is wrong\") & (df.labeler_2 == \"Predictive system is wrong\")])"
      ],
      "metadata": {
        "colab": {
          "base_uri": "https://localhost:8080/"
        },
        "id": "dPBaHClm-ct2",
        "outputId": "dc7c4705-b35c-4ff1-bf0c-db900d2f0567"
      },
      "execution_count": 57,
      "outputs": [
        {
          "output_type": "execute_result",
          "data": {
            "text/plain": [
              "31"
            ]
          },
          "metadata": {},
          "execution_count": 57
        }
      ]
    },
    {
      "cell_type": "code",
      "source": [
        "# marked NOT wrong by one only\n",
        "len(df[((df.labeler_1 == \"Predictive system is not wrong\") | (df.labeler_2 == \"Predictive system is not wrong\")) & ((df.labeler_1 != \"Predictive system is not wrong\") | (df.labeler_2 != \"Predictive system is not wrong\")) ])"
      ],
      "metadata": {
        "colab": {
          "base_uri": "https://localhost:8080/"
        },
        "id": "UwyQhMBg-2Ft",
        "outputId": "99b5228b-f954-4243-f15c-1252581b1e0f"
      },
      "execution_count": 58,
      "outputs": [
        {
          "output_type": "execute_result",
          "data": {
            "text/plain": [
              "19"
            ]
          },
          "metadata": {},
          "execution_count": 58
        }
      ]
    },
    {
      "cell_type": "code",
      "source": [
        "# percentage agreement\n",
        "len(df[df.labeler_1 == df.labeler_2])"
      ],
      "metadata": {
        "colab": {
          "base_uri": "https://localhost:8080/"
        },
        "id": "33GoHUHr-crJ",
        "outputId": "c1b4dcee-5b25-41b9-ec4a-25095162325a"
      },
      "execution_count": 59,
      "outputs": [
        {
          "output_type": "execute_result",
          "data": {
            "text/plain": [
              "70"
            ]
          },
          "metadata": {},
          "execution_count": 59
        }
      ]
    },
    {
      "cell_type": "code",
      "source": [],
      "metadata": {
        "id": "tqRg50h8-coS"
      },
      "execution_count": null,
      "outputs": []
    },
    {
      "cell_type": "code",
      "source": [],
      "metadata": {
        "id": "s6APsFQE-cln"
      },
      "execution_count": null,
      "outputs": []
    }
  ]
}